{
 "cells": [
  {
   "cell_type": "markdown",
   "metadata": {},
   "source": [
    "# 텍스트 마이닝의 이론과 실제"
   ]
  },
  {
   "cell_type": "markdown",
   "metadata": {},
   "source": [
    "## 텍스트 마이닝\n",
    "* 텍스트를 분석을 위한 데이터로 변경하는 것을 의미한다.\n",
    "* 일정한 길이의 vector로 변환 후 머신러닝 (딥러닝) 기법을 적용한다"
   ]
  },
  {
   "cell_type": "markdown",
   "metadata": {},
   "source": [
    "# 텍스트 마이닝 방법\n",
    "* NLP(자연어처리) 기본도구\n",
    "    * Tokenize(낱말분석), stemming(형태소분석), lemmatize(표제어 추출)\n",
    "    * Chunking(묶음만들기)\n",
    "    * BOW(Bag of word, 단어가 얼마나 많이 삽입되었는지), TFIDF(Term Frequency-Inverse Document Frequency, 문서의 빈도와 역문서의 빈도) "
   ]
  },
  {
   "cell_type": "markdown",
   "metadata": {},
   "source": [
    "## 텍스트 마이닝 도구 - 파이썬\n",
    "* NLTK \n",
    "    * 가장 널리 알려진 NLP 라이브러리\n",
    "* Scikit Learn \n",
    "    * 머신러닝 라이브러리, 기본적 NLP, 다양한 텍스트 마이닝 관련 지원\n",
    "* Gensim\n",
    "    * Word2Vec으로 유명하며 sklearin과 마찬가지로 텍스트 마이닝 도구 지원\n",
    "* Keras\n",
    "    * RNN, seq2seq 등의 딥러닝 위주의 라이브러리 제공"
   ]
  },
  {
   "cell_type": "markdown",
   "metadata": {},
   "source": [
    "## 텍스트 마이닝 기본도구\n",
    "- 목적 : document, sentence 등을 sparse vector로 변환\n",
    "* Tokenize\n",
    "    * 대상이 되는 문서/문장을 최소 단위로 쪼갬\n",
    "* Text normalization\n",
    "    * 최소 단위 표준화\n",
    "* Pos-tagging\n",
    "    * 최소 의미 단위 품사 부착\n",
    "* Chunking\n",
    "    * 위 포즈태깅의 결과를 말모듬으로 다시 합침\n",
    "* BOW, TFIDF\n",
    "    * tokenized 결과를 이용하여 문서를 vector로 표현"
   ]
  }
 ],
 "metadata": {
  "kernelspec": {
   "display_name": "Python 3",
   "language": "python",
   "name": "python3"
  },
  "language_info": {
   "codemirror_mode": {
    "name": "ipython",
    "version": 3
   },
   "file_extension": ".py",
   "mimetype": "text/x-python",
   "name": "python",
   "nbconvert_exporter": "python",
   "pygments_lexer": "ipython3",
   "version": "3.7.6"
  },
  "toc": {
   "base_numbering": 1,
   "nav_menu": {},
   "number_sections": false,
   "sideBar": true,
   "skip_h1_title": false,
   "title_cell": "Table of Contents",
   "title_sidebar": "Contents",
   "toc_cell": false,
   "toc_position": {},
   "toc_section_display": true,
   "toc_window_display": false
  },
  "varInspector": {
   "cols": {
    "lenName": 16,
    "lenType": 16,
    "lenVar": 40
   },
   "kernels_config": {
    "python": {
     "delete_cmd_postfix": "",
     "delete_cmd_prefix": "del ",
     "library": "var_list.py",
     "varRefreshCmd": "print(var_dic_list())"
    },
    "r": {
     "delete_cmd_postfix": ") ",
     "delete_cmd_prefix": "rm(",
     "library": "var_list.r",
     "varRefreshCmd": "cat(var_dic_list()) "
    }
   },
   "types_to_exclude": [
    "module",
    "function",
    "builtin_function_or_method",
    "instance",
    "_Feature"
   ],
   "window_display": false
  }
 },
 "nbformat": 4,
 "nbformat_minor": 4
}
